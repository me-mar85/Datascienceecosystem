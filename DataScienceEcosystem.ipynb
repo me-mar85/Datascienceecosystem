{
 "cells": [
  {
   "cell_type": "markdown",
   "id": "30a995ed-e339-4efd-a1af-e2c1d824211b",
   "metadata": {},
   "source": [
    "# Data Science Tools and Ecosystem\n",
    "\n",
    "In this notebook, Data Science Tools and Ecosystem are summarized."
   ]
  },
  {
   "cell_type": "markdown",
   "id": "08f433c6-3e3b-4289-8015-0c1ceae1ba34",
   "metadata": {},
   "source": [
    "**Objectives:**\n",
    "- List popular languages Data Scientists use\n",
    "- List commonly used librariues Data Scientists use\n",
    "- List tools Data Scientists use\n",
    "- Demonstrate example code\n",
    "- Demonstrate formatting options"
   ]
  },
  {
   "cell_type": "markdown",
   "id": "07106294-8a26-49af-a51c-55ab8b2a165d",
   "metadata": {},
   "source": [
    "Some of the most popular languages that Data Scientists use are:\n",
    "1. Python\n",
    "2. R\n",
    "3. SQL"
   ]
  },
  {
   "cell_type": "markdown",
   "id": "aa129e4c-5110-47bb-9c7c-6be64577b7b4",
   "metadata": {},
   "source": [
    "Some of the commonly used libraries used by Data Scientists include:\n",
    "1. Pandas\n",
    "2. Scikit-learn\n",
    "3. ggplot2\n"
   ]
  },
  {
   "cell_type": "markdown",
   "id": "ab0c8272-1517-41c7-8a53-34d8a671a5fa",
   "metadata": {},
   "source": [
    "Data Science Tools"
   ]
  },
  {
   "cell_type": "code",
   "execution_count": 5,
   "id": "1ec863db-7801-491b-bcf4-462588c91b01",
   "metadata": {},
   "outputs": [
    {
     "name": "stdout",
     "output_type": "stream",
     "text": [
      "+----------------------+\n",
      "| Data Science Tools   |\n",
      "+======================+\n",
      "| Jupyter Notebooks    |\n",
      "+----------------------+\n",
      "| R Studio             |\n",
      "+----------------------+\n",
      "| VS Code              |\n",
      "+----------------------+\n"
     ]
    }
   ],
   "source": [
    "from tabulate import tabulate\n",
    "\n",
    "# Data for the table\n",
    "data = [[\"Jupyter Notebooks\"], [\"R Studio\"], [\"VS Code\"]]\n",
    "\n",
    "# Table headers\n",
    "headers = [\"Data Science Tools\"]\n",
    "\n",
    "# Print the table\n",
    "print(tabulate(data, headers=headers, tablefmt=\"grid\"))\n"
   ]
  },
  {
   "cell_type": "markdown",
   "id": "bbee434d-a1e9-4e73-af7b-f053076a321d",
   "metadata": {},
   "source": [
    "### Below are a few examples of evaluating arithmetic expressions in Python. "
   ]
  },
  {
   "cell_type": "markdown",
   "id": "fe464508-1aca-4b7c-83ea-251eca86132c",
   "metadata": {},
   "source": [
    "This is a simple arithmetic expression to multiply then add integers"
   ]
  },
  {
   "cell_type": "code",
   "execution_count": 31,
   "id": "b7618426-8959-4dd5-9225-d4381100a0b7",
   "metadata": {},
   "outputs": [
    {
     "data": {
      "text/plain": [
       "17"
      ]
     },
     "execution_count": 31,
     "metadata": {},
     "output_type": "execute_result"
    }
   ],
   "source": [
    "(3*4)+5"
   ]
  },
  {
   "cell_type": "markdown",
   "id": "97720794-c0da-47b4-918b-6d3cbfaf6997",
   "metadata": {},
   "source": [
    "This will convert 200 minutes to hours by dividing by 60."
   ]
  },
  {
   "cell_type": "code",
   "execution_count": 12,
   "id": "21d38190-7ffc-4f09-8f81-b9cd422664cd",
   "metadata": {},
   "outputs": [
    {
     "data": {
      "text/plain": [
       "3.3333333333333335"
      ]
     },
     "execution_count": 12,
     "metadata": {},
     "output_type": "execute_result"
    }
   ],
   "source": [
    "200/60"
   ]
  },
  {
   "cell_type": "markdown",
   "id": "7a7a85fa-6e30-4908-a52a-cbfd4dfe597c",
   "metadata": {},
   "source": [
    "## Author\n",
    "Marcos Favela"
   ]
  },
  {
   "cell_type": "code",
   "execution_count": null,
   "id": "b08a62ed-2f2e-4d22-ac9a-7d33b8c5a71b",
   "metadata": {},
   "outputs": [],
   "source": []
  }
 ],
 "metadata": {
  "kernelspec": {
   "display_name": "Python 3 (ipykernel)",
   "language": "python",
   "name": "python3"
  },
  "language_info": {
   "codemirror_mode": {
    "name": "ipython",
    "version": 3
   },
   "file_extension": ".py",
   "mimetype": "text/x-python",
   "name": "python",
   "nbconvert_exporter": "python",
   "pygments_lexer": "ipython3",
   "version": "3.12.7"
  }
 },
 "nbformat": 4,
 "nbformat_minor": 5
}
